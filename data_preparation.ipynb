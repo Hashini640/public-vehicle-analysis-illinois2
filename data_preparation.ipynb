{
 "cells": [
  {
   "cell_type": "code",
   "execution_count": 11,
   "metadata": {},
   "outputs": [
    {
     "name": "stdout",
     "output_type": "stream",
     "text": [
      "Found 9 CSV files.\n",
      "Combined DataFrame saved to 'combined_vehicles_data.csv'.\n"
     ]
    }
   ],
   "source": [
    "import pandas as pd\n",
    "import glob\n",
    "\n",
    "# Define the directory where your CSV files are stored\n",
    "csv_directory = \"./PassengerVehicle_Stats/\"  # Replace with the directory path\n",
    "\n",
    "# Use glob to load all CSV files in the directory into a list\n",
    "csv_files = glob.glob(csv_directory + \"*.csv\")\n",
    "try:\n",
    "        # Check if we have 9 files and load them into a list\n",
    "    if len(csv_files) == 9:\n",
    "        print(f\"Found {len(csv_files)} CSV files.\")\n",
    "        \n",
    "        # Load all CSV files into a list of DataFrames\n",
    "        csv_data_list = [pd.read_csv(file) for file in csv_files]\n",
    "\n",
    "        # Concatenate the list of DataFrames into a single DataFrame\n",
    "        vehicles_df = pd.concat(csv_data_list, ignore_index=True)\n",
    "\n",
    "        # Optionally, save the combined DataFrame to a new CSV file\n",
    "        vehicles_df.to_csv(\"combined_vehicles_data.csv\", index=False)\n",
    "        print(\"Combined DataFrame saved to 'combined_vehicles_data.csv'.\")\n",
    "    else:\n",
    "        print(f\"Expected 9 CSV files, but found {len(csv_files)}. Please check your directory.\")\n",
    "\n",
    "except Exception as e:\n",
    "    print(f\"Error occurred: {e}\")"
   ]
  },
  {
   "cell_type": "code",
   "execution_count": 12,
   "metadata": {},
   "outputs": [
    {
     "name": "stdout",
     "output_type": "stream",
     "text": [
      "<class 'pandas.core.frame.DataFrame'>\n",
      "RangeIndex: 16602 entries, 0 to 16601\n",
      "Data columns (total 17 columns):\n",
      " #   Column                              Non-Null Count  Dtype  \n",
      "---  ------                              --------------  -----  \n",
      " 0   Unnamed: 0                          16602 non-null  int64  \n",
      " 1   Public Vehicle Number               16602 non-null  int64  \n",
      " 2   Status                              16602 non-null  object \n",
      " 3   Vehicle Make                        14685 non-null  object \n",
      " 4   Vehicle Model                       14639 non-null  object \n",
      " 5   Vehicle Model Year                  14660 non-null  float64\n",
      " 6   Vehicle Color                       14616 non-null  object \n",
      " 7   Vehicle Fuel Source                 16602 non-null  object \n",
      " 8   Wheelchair Accessible               16602 non-null  object \n",
      " 9   Company Name                        16602 non-null  object \n",
      " 10  Address                             14816 non-null  object \n",
      " 11  City                                14816 non-null  object \n",
      " 12  State                               14816 non-null  object \n",
      " 13  ZIP Code                            14816 non-null  float64\n",
      " 14  Taxi Affiliation                    7348 non-null   object \n",
      " 15  Taxi Medallion License Management   7321 non-null   object \n",
      " 16  Record ID                           16602 non-null  object \n",
      "dtypes: float64(2), int64(2), object(13)\n",
      "memory usage: 2.2+ MB\n",
      "None\n"
     ]
    }
   ],
   "source": [
    "#Data types of the variables\n",
    "print(vehicles_df.info())"
   ]
  },
  {
   "cell_type": "code",
   "execution_count": 13,
   "metadata": {},
   "outputs": [
    {
     "name": "stdout",
     "output_type": "stream",
     "text": [
      "   Unnamed: 0  Public Vehicle Number    Status Vehicle Make Vehicle Model  \\\n",
      "0        1286                  12009  RESERVED    CHEVROLET       EXPRESS   \n",
      "1        2095                  12248  INACTIVE     MERCEDES      SPRINTER   \n",
      "2        7950                  13527  INACTIVE     VAN HOOL         TD925   \n",
      "3        8700                  12248  INACTIVE     MERCEDES      SPRINTER   \n",
      "4        9359                  13528  INACTIVE     VAN HOOL         TD925   \n",
      "\n",
      "   Vehicle Model Year Vehicle Color Vehicle Fuel Source Wheelchair Accessible  \\\n",
      "0              2014.0         BLACK          Bio-Diesel                     N   \n",
      "1              2010.0        SILVER          Bio-Diesel                     N   \n",
      "2              2008.0           RED          Bio-Diesel                     N   \n",
      "3              2010.0        SILVER          Bio-Diesel                     N   \n",
      "4              2008.0           RED          Bio-Diesel                     N   \n",
      "\n",
      "                              Company Name                 Address     City  \\\n",
      "0                CHICAGO PRIVATE TOURS LLC  4567 S. OAKENWALD AVE.  CHICAGO   \n",
      "1  O'HARE-MIDWAY LIMOUSINE SERVICE INC # 2       4610 N. CLARK ST.  CHICAGO   \n",
      "2                 TRT TRANSPORTATION, INC.     4400 S. RACINE AVE.  CHICAGO   \n",
      "3  O'HARE-MIDWAY LIMOUSINE SERVICE INC # 2       4610 N. CLARK ST.  CHICAGO   \n",
      "4                 TRT TRANSPORTATION, INC.     4400 S. RACINE AVE.  CHICAGO   \n",
      "\n",
      "  State  ZIP Code Taxi Affiliation Taxi Medallion License Management   \\\n",
      "0    IL   60653.0              NaN                                NaN   \n",
      "1    IL   60640.0              NaN                                NaN   \n",
      "2    IL   60609.0              NaN                                NaN   \n",
      "3    IL   60640.0              NaN                                NaN   \n",
      "4    IL   60609.0              NaN                                NaN   \n",
      "\n",
      "                  Record ID  \n",
      "0  12009Charter Sightseeing  \n",
      "1  12248Charter Sightseeing  \n",
      "2  13527Charter Sightseeing  \n",
      "3  12248Charter Sightseeing  \n",
      "4  13528Charter Sightseeing  \n"
     ]
    }
   ],
   "source": [
    "#First few records of the vehicles data frame\n",
    "print(vehicles_df.head())"
   ]
  },
  {
   "cell_type": "code",
   "execution_count": 14,
   "metadata": {},
   "outputs": [
    {
     "name": "stdout",
     "output_type": "stream",
     "text": [
      "Mode values for each qualitative variable:\n",
      "   Status Vehicle Make Vehicle Model Vehicle Color Vehicle Fuel Source  \\\n",
      "0  ACTIVE       TOYOTA         CAMRY         WHITE            Gasoline   \n",
      "\n",
      "  Wheelchair Accessible          Company Name                 Address  \\\n",
      "0                     N  CITY OF CHICAGO BACP  3800 N. MILWAUKEE AVE.   \n",
      "\n",
      "      City State Taxi Affiliation Taxi Medallion License Management   \n",
      "0  CHICAGO    IL   DIS-AFFILIATED                      Owner Manager  \n"
     ]
    }
   ],
   "source": [
    "# All the variables consisit with qualitative nature\n",
    "#Identifying the mode of variables\n",
    "qualitative_columns = vehicles_df.select_dtypes(include=['object', 'category']).columns\n",
    "mode_values = vehicles_df[qualitative_columns.drop('Record ID')].mode()\n",
    "print(\"Mode values for each qualitative variable:\")\n",
    "print(mode_values)"
   ]
  },
  {
   "cell_type": "code",
   "execution_count": 15,
   "metadata": {},
   "outputs": [
    {
     "name": "stdout",
     "output_type": "stream",
     "text": [
      "Status\n",
      "ACTIVE         7222\n",
      "VIOLATION      3974\n",
      "INACTIVE       3702\n",
      "SURRENDER       888\n",
      "RESERVED        582\n",
      "REVOKED         147\n",
      "FORECLOSURE      82\n",
      "HOLD              5\n",
      "Name: count, dtype: int64\n"
     ]
    }
   ],
   "source": [
    "#obtaining counts of each status\n",
    "status_category_counts = vehicles_df['Status'].value_counts()\n",
    "\n",
    "print(status_category_counts)"
   ]
  },
  {
   "cell_type": "code",
   "execution_count": 16,
   "metadata": {},
   "outputs": [
    {
     "name": "stdout",
     "output_type": "stream",
     "text": [
      "Wheelchair Accessible\n",
      "N    15978\n",
      "Y      624\n",
      "Name: count, dtype: int64\n"
     ]
    }
   ],
   "source": [
    "#Wheel chair accessibility \n",
    "wheelchair_category_counts = vehicles_df['Wheelchair Accessible'].value_counts()\n",
    "\n",
    "print(wheelchair_category_counts)"
   ]
  },
  {
   "cell_type": "code",
   "execution_count": 17,
   "metadata": {},
   "outputs": [
    {
     "name": "stdout",
     "output_type": "stream",
     "text": [
      "Vehicle Fuel Source\n",
      "Gasoline                  9938\n",
      "Hybrid                    5969\n",
      "Pedal                      215\n",
      "Flex Fuel                  192\n",
      "Diesel                      96\n",
      "Compressed Natural Gas      91\n",
      "Horse                       59\n",
      "Electric                    33\n",
      "Bio-Diesel                   9\n",
      "Name: count, dtype: int64\n"
     ]
    }
   ],
   "source": [
    "#Fuel type variation\n",
    "fuel_category_counts = vehicles_df['Vehicle Fuel Source'].value_counts()\n",
    "\n",
    "print(fuel_category_counts)"
   ]
  },
  {
   "cell_type": "code",
   "execution_count": 25,
   "metadata": {},
   "outputs": [
    {
     "data": {
      "text/plain": [
       "0"
      ]
     },
     "execution_count": 25,
     "metadata": {},
     "output_type": "execute_result"
    }
   ],
   "source": [
    "#Detecting Duplicates\n",
    "duplicates = vehicles_df[vehicles_df.duplicated(subset='Public Vehicle Number', keep=False)]\n",
    "len(duplicates)\n"
   ]
  },
  {
   "cell_type": "code",
   "execution_count": 26,
   "metadata": {},
   "outputs": [
    {
     "name": "stdout",
     "output_type": "stream",
     "text": [
      "       Unnamed: 0  Public Vehicle Number     Status Vehicle Make  \\\n",
      "0            1286                  12009   RESERVED    CHEVROLET   \n",
      "1            2095                  12248   INACTIVE     MERCEDES   \n",
      "2            7950                  13527   INACTIVE     VAN HOOL   \n",
      "4            9359                  13528   INACTIVE     VAN HOOL   \n",
      "5            9441                  12025   INACTIVE     MERCEDES   \n",
      "...           ...                    ...        ...          ...   \n",
      "16382       16576                    998  VIOLATION       TOYOTA   \n",
      "16383       16583                   3810     ACTIVE       TOYOTA   \n",
      "16384       16590                   4690  VIOLATION       TOYOTA   \n",
      "16385       16592                   2831     ACTIVE       TOYOTA   \n",
      "16386       16596                   1509     ACTIVE       TOYOTA   \n",
      "\n",
      "      Vehicle Model  Vehicle Model Year Vehicle Color Vehicle Fuel Source  \\\n",
      "0           EXPRESS              2014.0         BLACK          Bio-Diesel   \n",
      "1          SPRINTER              2010.0        SILVER          Bio-Diesel   \n",
      "2             TD925              2008.0           RED          Bio-Diesel   \n",
      "4             TD925              2008.0           RED          Bio-Diesel   \n",
      "5          SPRINTER              2015.0         BLACK          Bio-Diesel   \n",
      "...             ...                 ...           ...                 ...   \n",
      "16382         CAMRY              2012.0         WHITE              Hybrid   \n",
      "16383          RAV4              2017.0    GRAY/WHITE              Hybrid   \n",
      "16384         CAMRY              2014.0         WHITE              Hybrid   \n",
      "16385         PRIUS              2012.0         WHITE              Hybrid   \n",
      "16386        SIENNA              2023.0         WHITE              Hybrid   \n",
      "\n",
      "      Wheelchair Accessible                             Company Name  \\\n",
      "0                         N                CHICAGO PRIVATE TOURS LLC   \n",
      "1                         N  O'HARE-MIDWAY LIMOUSINE SERVICE INC # 2   \n",
      "2                         N                 TRT TRANSPORTATION, INC.   \n",
      "4                         N                 TRT TRANSPORTATION, INC.   \n",
      "5                         N  O'HARE-MIDWAY LIMOUSINE SERVICE INC # 2   \n",
      "...                     ...                                      ...   \n",
      "16382                     N                          AGOMONY CAB INC   \n",
      "16383                     N               FENKIL ASMERA TAXI COMPANY   \n",
      "16384                     N                        MURIELLE CADICHON   \n",
      "16385                     N                            G S TRANS INC   \n",
      "16386                     Y                           J A SHALOM LLC   \n",
      "\n",
      "                        Address     City State  ZIP Code  \\\n",
      "0        4567 S. OAKENWALD AVE.  CHICAGO    IL   60653.0   \n",
      "1             4610 N. CLARK ST.  CHICAGO    IL   60640.0   \n",
      "2           4400 S. RACINE AVE.  CHICAGO    IL   60609.0   \n",
      "4           4400 S. RACINE AVE.  CHICAGO    IL   60609.0   \n",
      "5             4610 N. CLARK ST.  CHICAGO    IL   60640.0   \n",
      "...                         ...      ...   ...       ...   \n",
      "16382     2601 W. PETERSON AVE.  CHICAGO    IL   60659.0   \n",
      "16383  820 W. BELLE PLAINE AVE.  CHICAGO    IL   60613.0   \n",
      "16384         1736 W. 105TH PL.  CHICAGO    IL   60643.0   \n",
      "16385     2601 W. PETERSON AVE.  CHICAGO    IL   60659.0   \n",
      "16386      2532 W. WARREN BLVD.  CHICAGO    IL   60612.0   \n",
      "\n",
      "                    Taxi Affiliation Taxi Medallion License Management   \\\n",
      "0                                NaN                                NaN   \n",
      "1                                NaN                                NaN   \n",
      "2                                NaN                                NaN   \n",
      "4                                NaN                                NaN   \n",
      "5                                NaN                                NaN   \n",
      "...                              ...                                ...   \n",
      "16382                 DIS-AFFILIATED                      Owner Manager   \n",
      "16383    Choice Taxi Association Inc                      Owner Manager   \n",
      "16384                 DIS-AFFILIATED                     Owner-Operator   \n",
      "16385  City Service Taxi Association                      Owner Manager   \n",
      "16386                   Independent1                     Owner-Operator   \n",
      "\n",
      "                      Record ID  \n",
      "0      12009Charter Sightseeing  \n",
      "1      12248Charter Sightseeing  \n",
      "2      13527Charter Sightseeing  \n",
      "4      13528Charter Sightseeing  \n",
      "5      12025Charter Sightseeing  \n",
      "...                         ...  \n",
      "16382                   998Taxi  \n",
      "16383                  3810Taxi  \n",
      "16384                  4690Taxi  \n",
      "16385                  2831Taxi  \n",
      "16386                  1509Taxi  \n",
      "\n",
      "[14473 rows x 17 columns]\n"
     ]
    }
   ],
   "source": [
    "#Removing Duplicates\n",
    "vehicles_df = vehicles_df.drop_duplicates(subset=['Public Vehicle Number'], keep='first')\n",
    "print(vehicles_df)\n",
    "vehicles_df.to_csv('cleaned_vehicles.csv', index=False)"
   ]
  }
 ],
 "metadata": {
  "kernelspec": {
   "display_name": ".env",
   "language": "python",
   "name": "python3"
  },
  "language_info": {
   "codemirror_mode": {
    "name": "ipython",
    "version": 3
   },
   "file_extension": ".py",
   "mimetype": "text/x-python",
   "name": "python",
   "nbconvert_exporter": "python",
   "pygments_lexer": "ipython3",
   "version": "3.12.7"
  }
 },
 "nbformat": 4,
 "nbformat_minor": 2
}
